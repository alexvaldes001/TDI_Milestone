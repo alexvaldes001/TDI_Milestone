{
 "cells": [
  {
   "cell_type": "code",
   "execution_count": null,
   "metadata": {},
   "outputs": [],
   "source": [
    "import requests\n",
    "import json\n",
    "import pandas as pd\n",
    "import plotly.express as px\n",
    "from dotenv import dotenv_values\n",
    "from decouple import config"
   ]
  },
  {
   "cell_type": "code",
   "execution_count": null,
   "metadata": {},
   "outputs": [],
   "source": [
    "config = dotenv_values(\".env\")"
   ]
  },
  {
   "cell_type": "code",
   "execution_count": null,
   "metadata": {},
   "outputs": [],
   "source": [
    "API_Key = config['API_Key']\n"
   ]
  },
  {
   "cell_type": "code",
   "execution_count": null,
   "metadata": {},
   "outputs": [],
   "source": [
    "url = 'https://www.alphavantage.co/query'\n",
    "params = {'function': 'TIME_SERIES_DAILY_ADJUSTED',\n",
    "          'symbol': 'AAPL',\n",
    "          'outputsize': 'full',\n",
    "          'apikey': API_Key}\n",
    "r = requests.get(url, params = params)\n",
    "data = r.json()\n",
    "\n",
    "type(data)"
   ]
  },
  {
   "cell_type": "code",
   "execution_count": null,
   "metadata": {},
   "outputs": [],
   "source": [
    "data #['Time Series (Daily)']"
   ]
  },
  {
   "cell_type": "code",
   "execution_count": null,
   "metadata": {},
   "outputs": [],
   "source": [
    "df = pd.DataFrame.from_dict(data['Time Series (Daily)']).T\n",
    "df"
   ]
  },
  {
   "cell_type": "code",
   "execution_count": null,
   "metadata": {},
   "outputs": [],
   "source": [
    "df.reset_index(inplace=True)\n",
    "df = df.rename(columns = {'index':'date'})\n",
    "df"
   ]
  },
  {
   "cell_type": "code",
   "execution_count": null,
   "metadata": {},
   "outputs": [],
   "source": [
    "df['date'] = pd.to_datetime(df['date'], format = '%Y-%m-%d')\n",
    "df['4. close'] = df['4. close'].astype(float)\n",
    "df['1. open'] = df['1. open'].astype(float)\n",
    "df['2. high'] = df['2. high'].astype(float)\n",
    "df['3. low'] = df['3. low'].astype(float)\n",
    "df['5. adjusted close'] = df['5. adjusted close'].astype(float)\n",
    "df['6. volume'] = df['6. volume'].astype(int)"
   ]
  },
  {
   "cell_type": "code",
   "execution_count": null,
   "metadata": {},
   "outputs": [],
   "source": [
    "df.dtypes"
   ]
  },
  {
   "cell_type": "code",
   "execution_count": null,
   "metadata": {},
   "outputs": [],
   "source": [
    "df"
   ]
  },
  {
   "cell_type": "code",
   "execution_count": null,
   "metadata": {},
   "outputs": [],
   "source": [
    "df_filtered = df.loc[(df['date'] >= '2021-01-01') & (df['date'] < '2021-02-01')]\n",
    "df_filtered"
   ]
  },
  {
   "cell_type": "code",
   "execution_count": null,
   "metadata": {},
   "outputs": [],
   "source": [
    "fig = px.line(df_filtered, x=\"date\", y=\"5. adjusted close\",\n",
    "              labels = {\"date\": \"Date\",\n",
    "                        \"5. adjusted close\": \"Adjusted Closing ($)\"},\n",
    "              title='Closing Price')\n",
    "fig.show()"
   ]
  },
  {
   "cell_type": "code",
   "execution_count": null,
   "metadata": {},
   "outputs": [],
   "source": []
  }
 ],
 "metadata": {
  "kernelspec": {
   "display_name": "Python 3",
   "language": "python",
   "name": "python3"
  },
  "language_info": {
   "codemirror_mode": {
    "name": "ipython",
    "version": 3
   },
   "file_extension": ".py",
   "mimetype": "text/x-python",
   "name": "python",
   "nbconvert_exporter": "python",
   "pygments_lexer": "ipython3",
   "version": "3.8.5"
  }
 },
 "nbformat": 4,
 "nbformat_minor": 4
}
